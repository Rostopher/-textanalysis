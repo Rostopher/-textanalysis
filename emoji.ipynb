{
 "cells": [
  {
   "cell_type": "markdown",
   "metadata": {},
   "source": [
    "# 对b站热门的七个飞盘视频进行文本分析"
   ]
  },
  {
   "cell_type": "markdown",
   "metadata": {},
   "source": [
    "### 引入必须的库"
   ]
  },
  {
   "cell_type": "code",
   "execution_count": null,
   "metadata": {},
   "outputs": [],
   "source": [
    "import imageio\n",
    "import jieba\n",
    "import numpy as np\n",
    "import pymysql\n",
    "from PIL import Image\n",
    "from wordcloud import ImageColorGenerator\n",
    "import re\n",
    "import pandas as pd\n",
    "import matplotlib.pyplot as plt\n",
    "import matplotlib"
   ]
  },
  {
   "cell_type": "markdown",
   "metadata": {},
   "source": [
    "### 文本的读写\n",
    "爬到的文本数据储存在一个csv文件中，下面主要是把comments列的数据提取出来，作为string储存在变量 Str 中。jieba的分词等等一般是针对 string 格式的数据。\n",
    "不过这种处理的后果是无法构成时间序列数据，个人感觉之后还要做一个根据单元格分词，能进行更为深度的分析\n",
    "这种处理类似于描述性统计，从宏观上把握舆论方向，可能存在一些有趣的发现"
   ]
  },
  {
   "cell_type": "code",
   "execution_count": null,
   "metadata": {},
   "outputs": [],
   "source": [
    "Data = pd.read_csv(\"comment_list.CSV\", encoding='gbk', header=0)\n",
    "# header=0 把第一行设置为表头，encoding='gbk'可以读取中文\n",
    "comments = pd.DataFrame(Data, columns=['comments'])\n",
    "\n",
    "text = []\n",
    "for row in comments.itertuples(index=False, name='comments'):\n",
    "    print(row[0])\n",
    "    # 这里已经可以输出纯粹的单元格内文本了，非常nice\n",
    "    text.append(row[0])\n",
    "\n",
    "Str = str(text)\n"
   ]
  },
  {
   "cell_type": "markdown",
   "metadata": {},
   "source": [
    "### 分词和清洗\n",
    "\n",
    "分词和清洗主要采用jieba的功能，在这里要根据爬到文本数据的特性定好 dick.txt, 在里面输入不想分开的词，需要不断的调整才能发现最优分词。\n",
    "\n",
    "wash_as()函数输入的是一个string，输出的是一个字典，字典中包含分的词和对应的数量。"
   ]
  },
  {
   "cell_type": "code",
   "execution_count": null,
   "metadata": {},
   "outputs": [],
   "source": [
    "def wash_as(str):\n",
    "    wordlst = {}\n",
    "    p1 = re.compile(r\"\\[.*?\\]\", re.S)\n",
    "    list = re.findall(p1, str)\n",
    "    for i in list:\n",
    "        if i not in wordlst:\n",
    "            wordlst[i] = 1\n",
    "        else:\n",
    "            wordlst[i] += 1\n",
    "    for punct in wordlst.keys():\n",
    "        str = str.replace(punct, \",\")\n",
    "    jieba.load_userdict('dict.txt')\n",
    "    seglst = jieba.cut(str)\n",
    "    for i in seglst:\n",
    "        if i not in wordlst:\n",
    "            wordlst[i] = 1\n",
    "        else:\n",
    "            wordlst[i] += 1\n",
    "    for punct in \"\"\"！？｡＂＃＄％＆＇（）＊＋，－／：；＜＝＞＠［＼］＾＿｀｛｜｝～｟｠｢｣､、〃《》「」『』【】〔〕〖〗〘〙〚〛〜〝〞〟〰〾〿–—‘'‛“”„‟…‧﹏.!#$%&\\'()*+,-./:;<=>?@[\\\\]^_`{|}~\"\n",
    "    \"\"\":\n",
    "        if punct in wordlst:\n",
    "            wordlst.pop(punct)\n",
    "    poplst = []\n",
    "    for char in wordlst.keys():\n",
    "        if len(char) == 1:\n",
    "            poplst.append(char)\n",
    "    for char in poplst:\n",
    "        wordlst.pop(char)\n",
    "    for char in str:\n",
    "        if ord(char) < 129686 and ord(char) > 127743:\n",
    "            if char not in wordlst:\n",
    "                wordlst[char] = 1\n",
    "            else:\n",
    "                wordlst[char] += 1\n",
    "    return wordlst\n",
    "\n",
    "print(wash_as(Str))"
   ]
  },
  {
   "cell_type": "code",
   "execution_count": null,
   "metadata": {},
   "outputs": [],
   "source": [
    "\n",
    "\n",
    "# 把洗好的词放入下面的变量里面\n",
    "text_washed = wash_as(Str)"
   ]
  },
  {
   "cell_type": "markdown",
   "metadata": {},
   "source": [
    "### emoji分析\n",
    "这里意外的发现有很多emoji被单独提了出来，因此可以引申做一个emoji使用频率分析\n",
    "\n",
    "emoji同样采用字典形式，对字典进行排序需要用到lambda函数\n",
    "rank_list 输出的是一个list，list中包含以tuple形式储存的emoji名称+频率数据\n"
   ]
  },
  {
   "cell_type": "code",
   "execution_count": null,
   "metadata": {},
   "outputs": [],
   "source": [
    "emoji = {'[doge]': 367, '[呲牙]': 34, '[吃瓜]': 104, '[脱单doge]': 46, '[tv_冷漠]': 3, '[藏狐]': 58, '[脸红]': 21, '[疑惑]': 30, '[嗑瓜子]': 28, '[星星眼]': 14, '[笑哭]': 148, '[热]': 21, '[捂脸]': 37, '[妙啊]': 69, '[口罩]': 9, '[思考]': 45, '[辣眼睛]': 132, '[OK]': 34, '[滑稽]': 41, '[大哭]': 9, '[大笑]': 23, '[微笑]': 73, '[抠鼻]': 11, '[捂眼]': 7, '[哦呼]': 4, '[热词系列_知识增加]': 10, '[生气]': 7, '[点赞]': 7, '[喜极而泣]': 25, '[囧]': 11, '[鼓掌]': 6, '[歪嘴]': 11, '[惊讶]': 2, '[灵魂出窍]': 3, '[尴尬]': 3, '[傲娇]': 13, '[豹富]': 7, '[怪我咯]': 7, '[打call]': 36, '[Cat_slip]': 1, '[爱心]': 2, '[tv_抠鼻]': 1, '[无语]': 35, '[tv_呕吐]': 1, '[委屈]': 8, '[保佑]': 8, '[支持]': 11, '[原神_嗯]': 1, '[tv_doge]': 9, '[呆]': 9, '[墨镜]': 1, '[热词系列_妙啊]': 1, '[喜欢]': 12, '[tv_思考]': 3, '[tv_鼓掌]': 2, '[保卫萝卜_哭哭]': 1, '[给心心]': 53, '[尼奈_别在这发癫]': 1, '[保卫萝卜_问号]': 6, '[阴险]': 6, '[偷笑]': 22, '[跪了]': 2, '[tv_尴尬]': 1, '[Cat2_FallInto!]': 1, '[酸了]': 2, '[tv_笑哭]': 4, '[翻白眼]': 4, '[高考加油]': 5, '[热词系列_13周年]': 1, '[吐]': 10, '[嘉然2.0_擦汗]': 3, '[蛆音娘_吃瓜群众]': 1, '[干物妹！小埋_羡慕]': 1, '[原神_喝茶]': 1, '[正经人_悠闲]': 2, '[狗子]': 2, '[小电视_笑]': 1, '[tv_无奈]': 1, '[羞羞]': 1, '[热词系列_优雅]': 2, '[tv_偷笑]': 1, '[鸡腿]': 1, '[笑]': 2, '[Cat2_Inbox!]': 1, '[嫌弃]': 5, '[2233娘_大笑]': 1, '[哈欠]': 2, '[热词系列_我酸了]': 1, '[音律联觉_吃瓜]': 1, '[调皮]': 3, '[tv_目瞪口呆]': 2, '[tv_斜眼笑]': 1, '[tv_大哭]': 9, '[2233娘_委屈]': 1, '[难过]': 1, '[tv_点赞]': 3, '[来古-震撼]': 1, '[热词系列_三连]': 7, '[撇嘴]': 3, '[热词系列_锤]': 1, '[tv_流泪]': 1, '[tv_发怒]': 2, '[疼]': 1, '[星瞳_发癫]': 1, '[星瞳_扭扭]': 1, '[再见]': 1, '[热词系列_你细品]': 1, '[嘟嘟]': 3, '[来古-注意]': 1, '[向晚2.0_木头小向晚]': 1, '[奥比岛_击爪]': 1, '[tv_黑人问号]': 1, '[黑洞]': 2, '[保卫萝卜_哇]': 2, '[初音未来_nice]': 1, '[嘉然_点赞]': 1, '[Gon的旱獭_喝可乐]': 1, '[tv_白眼]': 2, '[屁股鸟_比心]': 1, '[热词系列_保护]': 1, '[伊万_不屑]': 1, '[永雏塔菲_哈哈哈]': 2, '[嘉然2.0_啊笑死]': 1, '[嘉然2.0_累了]': 1, '[蛆音娘_睡觉觉]': 1, '[星瞳_给你一拳]': 1, '[未来有你_生闷气]': 1, '[奶茶干杯]': 1, '[tv_疑问]': 1, '[热词表情_哎呦不错哦]': 2, '[tv_调侃]': 1, '[贝拉kira_sorry]': 1, '[热词系列_好活]': 1, '[Cat_coffeebath]': 1, '[永雏塔菲_嘲笑]': 2, '[热词系列_好家伙]': 1, '[拥抱]': 2, '[老鼠]': 1, '[2233塔罗牌_我觉得星]': 1, '[2233塔罗牌_不约]': 1, '[tv_亲亲]': 1, '[星瞳_跳舞]': 1, '[洛天依_吃包群众]': 1}\n",
    "\n",
    "# def get_key (dict, value):\n",
    "#     return[k for k, v in dict.items() if v == value]\n",
    "\n",
    "rank_list = sorted(emoji.items(), key=lambda d: d[1])\n",
    "print(rank_list)"
   ]
  },
  {
   "cell_type": "code",
   "execution_count": 1,
   "metadata": {},
   "outputs": [
    {
     "name": "stdout",
     "output_type": "stream",
     "text": [
      "dict_keys([-1.2545354, -1.2315456, -2.146456465])\n",
      "['-1.2545354', '-1.2315456', '-2.146456465']\n"
     ]
    },
    {
     "data": {
      "image/png": "[encoded data removed]",
      "text/plain": [
       "<Figure size 432x288 with 2 Axes>"
      ]
     },
     "metadata": {
      "needs_background": "light"
     },
     "output_type": "display_data"
    }
   ],
   "source": [
    "# 绘制词频图\n",
    "\n",
    "import matplotlib.pyplot as plt\n",
    "\n",
    "def plt_frequency(data=[]):\n",
    "    list1 = []\n",
    "    list2 = []\n",
    "    for k,v in data:\n",
    "        if v != 1:\n",
    "            list1.append(k)\n",
    "            list2.append(v)\n",
    "\n",
    "    emoji = dict(zip(list1, list2))\n",
    "\n",
    "    fig = plt.figure()\n",
    "    plt.rcParams['font.sans-serif'] = ['SimHei'] #用来正常显示中文标签\n",
    "    plt.rcParams['axes.unicode_minus'] = False #用来正常显示负号\n",
    "\n",
    "    x1 = list(emoji.keys())\n",
    "    # x1 = list(map(str, x1))\n",
    "\n",
    "    y1 = list(emoji.values())\n",
    "\n",
    "    plt.bar(x1, y1)\n",
    "    plt.xlabel(\"emoji\")\n",
    "    plt.ylabel('词频')\n",
    "\n",
    "    plt.xticks(rotation=90)\n",
    "    plt.title('emoji词频统计图')\n",
    "    plt.show()\n"
   ]
  },
  {
   "cell_type": "markdown",
   "metadata": {},
   "source": [
    "### 词云生成\n",
    "这里函数的三个输入参数：\n",
    "dict: 上面生成的字典\n",
    "picture：底图（xx.jpg)，在底图上生成词云，比如放一个中国地图，他就会在中国地图上面生成词云\n",
    "output：输出的文件名 (xx.png)\n",
    "要注意这里的word_cloud函数自身就可以输出图像，不需要再plt.show"
   ]
  },
  {
   "cell_type": "code",
   "execution_count": null,
   "metadata": {},
   "outputs": [],
   "source": [
    "#词云生成器\n",
    "def word_cloud(dict, picture, output):\n",
    "    # 蒙版图片路径\n",
    "    img = imageio.imread(picture)\n",
    "    w = wordcloud.WordCloud(\n",
    "        background_color='white',\n",
    "        mask=img,\n",
    "        # max_words=300,\n",
    "        # max_font_size=300,\n",
    "        # min_font_size=100,\n",
    "        width=2500,\n",
    "        height=3000,\n",
    "        font_path='STZHONGS.TTF',\n",
    "        mode='RGBA',\n",
    "        # random_state=1,\n",
    "        prefer_horizontal=1,\n",
    "    )\n",
    "    w.generate_from_frequencies(dict)\n",
    "    # 色彩图片路径\n",
    "    color_source_image = np.array(Image.open(picture))\n",
    "    colormap = ImageColorGenerator(color_source_image)\n",
    "    colored_image = w.recolor(color_func=colormap)\n",
    "    # 保存为图片\n",
    "    colored_image.to_file(output)\n",
    "    # w.generate(text)\n",
    "\n",
    "word_cloud(emoji, 'feipan.jpg', 'emoji.png')\n",
    "\n"
   ]
  }
 ],
 "metadata": {
  "kernelspec": {
   "display_name": "Python 3.8.5 ('base')",
   "language": "python",
   "name": "python3"
  },
  "language_info": {
   "codemirror_mode": {
    "name": "ipython",
    "version": 3
   },
   "file_extension": ".py",
   "mimetype": "text/x-python",
   "name": "python",
   "nbconvert_exporter": "python",
   "pygments_lexer": "ipython3",
   "version": "3.8.5"
  },
  "orig_nbformat": 4,
  "vscode": {
   "interpreter": {
    "hash": "b09ec625f77bf4fd762565a912b97636504ad6ec901eb2d0f4cf5a7de23e1ee5"
   }
  }
 },
 "nbformat": 4,
 "nbformat_minor": 2
}
